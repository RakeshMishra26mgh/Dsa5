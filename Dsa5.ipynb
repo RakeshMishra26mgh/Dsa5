{
  "nbformat": 4,
  "nbformat_minor": 0,
  "metadata": {
    "colab": {
      "provenance": [],
      "authorship_tag": "ABX9TyNN5cwHuSQpl19QLQHGVIpA",
      "include_colab_link": true
    },
    "kernelspec": {
      "name": "python3",
      "display_name": "Python 3"
    },
    "language_info": {
      "name": "python"
    }
  },
  "cells": [
    {
      "cell_type": "markdown",
      "metadata": {
        "id": "view-in-github",
        "colab_type": "text"
      },
      "source": [
        "<a href=\"https://colab.research.google.com/github/RakeshMishra26mgh/Dsa5/blob/main/Dsa5.ipynb\" target=\"_parent\"><img src=\"https://colab.research.google.com/assets/colab-badge.svg\" alt=\"Open In Colab\"/></a>"
      ]
    },
    {
      "cell_type": "markdown",
      "source": [
        "Answer 1:-"
      ],
      "metadata": {
        "id": "ZNLzFIWt8EVx"
      }
    },
    {
      "cell_type": "code",
      "source": [
        "def convert_1D_to_2D(original, m, n):\n",
        "  if len(original) != m * n:\n",
        "    return []\n",
        "  result = []\n",
        "  for i in range(m):\n",
        "    result.append(original[i * n : (i + 1) * n])\n",
        "  return result\n",
        "\n",
        "original = list(map(int, input(\"Enter the elements of the original array separated by space: \").split()))\n",
        "m = int(input(\"Enter the number of rows for the 2D array: \"))\n",
        "n = int(input(\"Enter the number of columns for the 2D array: \"))\n",
        "\n",
        "print(convert_1D_to_2D(original, m, n))\n"
      ],
      "metadata": {
        "id": "pNqjbKje8G4Y"
      },
      "execution_count": null,
      "outputs": []
    },
    {
      "cell_type": "markdown",
      "source": [
        "Answer 2:-"
      ],
      "metadata": {
        "id": "vE6S0tUY-mLw"
      }
    },
    {
      "cell_type": "code",
      "source": [
        "def count_complete_rows(n):\n",
        "  if n <= 0:\n",
        "    return 0\n",
        "  rows = int(((1 + 8 * n) ** 0.5 - 1) / 2)\n",
        "  return rows\n",
        "\n",
        "n = int(input(\"Enter the number of coins: \"))\n",
        "\n",
        "print(count_complete_rows(n))\n"
      ],
      "metadata": {
        "id": "KMO5W7FA-ojR"
      },
      "execution_count": null,
      "outputs": []
    },
    {
      "cell_type": "markdown",
      "source": [
        "Answer 3:-"
      ],
      "metadata": {
        "id": "qvCh2YrE_87P"
      }
    },
    {
      "cell_type": "code",
      "source": [
        "def sorted_squares(nums):\n",
        "  if not nums:\n",
        "    return []\n",
        "  left = 0\n",
        "  right = len(nums) - 1\n",
        "  result = []\n",
        "  while left <= right:\n",
        "    if abs(nums[left]) > abs(nums[right]):\n",
        "      result.insert(0, nums[left] ** 2)\n",
        "      left += 1\n",
        "    else:\n",
        "      result.insert(0, nums[right] ** 2)\n",
        "      right -= 1\n",
        "  return result\n",
        "\n",
        "nums = list(map(int, input(\"Enter the elements of the sorted array separated by space: \").split()))\n",
        "\n",
        "print(sorted_squares(nums))\n"
      ],
      "metadata": {
        "id": "pqM8Qj2NAAao"
      },
      "execution_count": null,
      "outputs": []
    },
    {
      "cell_type": "markdown",
      "source": [
        "Answer 4:-"
      ],
      "metadata": {
        "id": "ytd7PZzFBQG2"
      }
    },
    {
      "cell_type": "code",
      "source": [
        "def find_distinct_diff(nums1, nums2):\n",
        "  if not nums1 or not nums2:\n",
        "    return [nums1, nums2]\n",
        "  diff1 = list(set(nums1) - set(nums2))\n",
        "  diff2 = list(set(nums2) - set(nums1))\n",
        "  return [diff1, diff2]\n",
        "\n",
        "nums1 = list(map(int, input(\"Enter the elements of the first array separated by space: \").split()))\n",
        "nums2 = list(map(int, input(\"Enter the elements of the second array separated by space: \").split()))\n",
        "\n",
        "print(find_distinct_diff(nums1, nums2))\n"
      ],
      "metadata": {
        "id": "jiqYZUwQBR-Q"
      },
      "execution_count": null,
      "outputs": []
    },
    {
      "cell_type": "markdown",
      "source": [
        "Answer 5:-"
      ],
      "metadata": {
        "id": "N6RDtgKICfxB"
      }
    },
    {
      "cell_type": "code",
      "source": [
        "def distance_value(arr1, arr2, d):\n",
        "  distance = 0\n",
        "  if not arr1 or not arr2 or d < 0:\n",
        "    return -1\n",
        "  arr1.sort()\n",
        "  arr2.sort()\n",
        "  i = 0\n",
        "  j = 0\n",
        "  while i < len(arr1) and j < len(arr2):\n",
        "    if abs(arr1[i] - arr2[j]) <= d:\n",
        "      i += 1\n",
        "      j += 1\n",
        "    else:\n",
        "      if arr1[i] < arr2[j]:\n",
        "        distance += 1\n",
        "        i += 1\n",
        "      else:\n",
        "        j += 1\n",
        "  distance += len(arr1) - i\n",
        "  return distance\n",
        "\n",
        "arr1 = list(map(int, input(\"Enter the elements of arr1 separated by space: \").split()))\n",
        "arr2 = list(map(int, input(\"Enter the elements of arr2 separated by space: \").split()))\n",
        "d = int(input(\"Enter the value of d: \"))\n",
        "\n",
        "result = distance_value(arr1, arr2, d)\n",
        "if result == -1:\n",
        "  print(\"Invalid input\")\n",
        "else:\n",
        "  print(\"The distance value between the two arrays is:\", result)\n"
      ],
      "metadata": {
        "id": "bJ8ZeAiqCip_"
      },
      "execution_count": null,
      "outputs": []
    },
    {
      "cell_type": "markdown",
      "source": [
        "Answer 6:-"
      ],
      "metadata": {
        "id": "dZzIsqz3Fbt7"
      }
    },
    {
      "cell_type": "code",
      "source": [
        "def find_duplicates(nums):\n",
        "  duplicates = []\n",
        "  if not nums or len(nums) == 1:\n",
        "    return duplicates\n",
        "  for x in nums:\n",
        "    x = abs(x)\n",
        "    if x >= 1 and x <= len(nums):\n",
        "      if nums[x-1] < 0:\n",
        "        duplicates.append(x)\n",
        "      else:\n",
        "        nums[x-1] *= -1\n",
        "    else:\n",
        "      return -1\n",
        "  return duplicates\n",
        "\n",
        "nums = list(map(int, input(\"Enter the elements of nums separated by space: \").split()))\n",
        "\n",
        "result = find_duplicates(nums)\n",
        "if result == -1:\n",
        "  print(\"Invalid input\")\n",
        "else:\n",
        "  print(\"The duplicates in the array are:\", result)\n"
      ],
      "metadata": {
        "id": "OtGlvzDmFeVd"
      },
      "execution_count": null,
      "outputs": []
    },
    {
      "cell_type": "markdown",
      "source": [
        "Answer 7:-"
      ],
      "metadata": {
        "id": "0w2drAh4GrEi"
      }
    },
    {
      "cell_type": "code",
      "source": [
        "def find_min(nums):\n",
        "  if not nums:\n",
        "    return -1\n",
        "  left = 0\n",
        "  right = len(nums) - 1\n",
        "  while left < right:\n",
        "    mid = (left + right) // 2\n",
        "    if nums[mid] < nums[right]:\n",
        "      right = mid\n",
        "    else:\n",
        "      left = mid + 1\n",
        "  return nums[left]\n",
        "\n",
        "nums = list(map(int, input(\"Enter the elements of nums separated by space: \").split()))\n",
        "\n",
        "result = find_min(nums)\n",
        "if result == -1:\n",
        "  print(\"Invalid input\")\n",
        "else:\n",
        "  print(\"The minimum element in the array is:\", result)\n"
      ],
      "metadata": {
        "id": "i8DmCof9GtK9"
      },
      "execution_count": null,
      "outputs": []
    },
    {
      "cell_type": "markdown",
      "source": [
        "Answer 8:-"
      ],
      "metadata": {
        "id": "i-JA3XPNHz5r"
      }
    },
    {
      "cell_type": "code",
      "source": [
        "def find_original(changed):\n",
        "  original = []\n",
        "  if not changed or len(changed) % 2 != 0:\n",
        "    return original\n",
        "  changed.sort()\n",
        "  counts = {}\n",
        "  for x in changed:\n",
        "    counts[x] = counts.get(x, 0) + 1\n",
        "  for x in changed:\n",
        "    if x in counts and x * 2 in counts and counts[x] > 0 and counts[x * 2] > 0:\n",
        "      original.append(x)\n",
        "      counts[x] -= 1\n",
        "      counts[x * 2] -= 1\n",
        "    else:\n",
        "      return []\n",
        "  return original\n",
        "\n",
        "changed = list(map(int, input(\"Enter the elements of changed separated by space: \").split()))\n",
        "\n",
        "result = find_original(changed)\n",
        "print(\"The original array is:\", result)\n"
      ],
      "metadata": {
        "colab": {
          "base_uri": "https://localhost:8080/"
        },
        "id": "Okg02KtoH2SR",
        "outputId": "d9946db0-5a14-43ac-e324-5878524c285d"
      },
      "execution_count": 10,
      "outputs": [
        {
          "output_type": "stream",
          "name": "stdout",
          "text": [
            "Enter the elements of changed separated by space: 1 3 4 2 6 8 \n",
            "The original array is: []\n"
          ]
        }
      ]
    }
  ]
}